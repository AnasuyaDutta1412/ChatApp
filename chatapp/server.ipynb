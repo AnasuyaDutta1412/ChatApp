{
 "cells": [
  {
   "cell_type": "code",
   "execution_count": null,
   "metadata": {},
   "outputs": [],
   "source": [
    "import socket\n",
    "chunk= 65533           # receive at most these bytes of data at once"
   ]
  },
  {
   "cell_type": "code",
   "execution_count": null,
   "metadata": {},
   "outputs": [],
   "source": [
    "port = 65520\n",
    "s = socket.socket(socket.AF_INET, socket.SOCK_DGRAM)   # create a socket obj  # syntax-socket.socket(family,type),  # AF_INET: family of ipv4 ip address # SOCK_DGRAM:UDP, SOCK_STREAM:TCP\n",
    "print(s)"
   ]
  },
  {
   "cell_type": "code",
   "execution_count": null,
   "metadata": {},
   "outputs": [],
   "source": [
    "hostname = '127.0.0.1'     #  ip add of local machine, same for everyone"
   ]
  },
  {
   "cell_type": "code",
   "execution_count": null,
   "metadata": {},
   "outputs": [],
   "source": [
    "s.bind((hostname,port))    # bind the socket with the host machine and on port 3000"
   ]
  },
  {
   "cell_type": "code",
   "execution_count": null,
   "metadata": {},
   "outputs": [],
   "source": [
    "print(f\"Server is live on {s.getsockname()}\")"
   ]
  },
  {
   "cell_type": "code",
   "execution_count": null,
   "metadata": {},
   "outputs": [],
   "source": [
    "# run this server infinitely, till i stop manually"
   ]
  },
  {
   "cell_type": "code",
   "execution_count": null,
   "metadata": {},
   "outputs": [],
   "source": [
    "while True:       # infinite loop\n",
    "    data, clientAdd = s.recvfrom(chunk)\n",
    "    message = data.decode('ascii')     # data by default travels in bytes\n",
    "    print(f\"Client says - {message}\")\n",
    "    message_send = input(\"Reply:\")\n",
    "    data = message_send.encode('ascii')\n",
    "    # send data to the ip address that sent me the data\n",
    "    s.sendto(data, clientAdd)"
   ]
  },
  {
   "cell_type": "code",
   "execution_count": null,
   "metadata": {},
   "outputs": [],
   "source": []
  },
  {
   "cell_type": "code",
   "execution_count": null,
   "metadata": {},
   "outputs": [],
   "source": []
  }
 ],
 "metadata": {
  "kernelspec": {
   "display_name": "Python 3",
   "language": "python",
   "name": "python3"
  },
  "language_info": {
   "codemirror_mode": {
    "name": "ipython",
    "version": 3
   },
   "file_extension": ".py",
   "mimetype": "text/x-python",
   "name": "python",
   "nbconvert_exporter": "python",
   "pygments_lexer": "ipython3",
   "version": "3.8.3"
  }
 },
 "nbformat": 4,
 "nbformat_minor": 4
}
